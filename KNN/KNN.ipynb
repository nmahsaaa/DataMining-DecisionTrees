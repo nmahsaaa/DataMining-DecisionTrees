{
 "cells": [
  {
   "cell_type": "code",
   "execution_count": 1,
   "metadata": {},
   "outputs": [],
   "source": [
    "import numpy as np\n",
    "import matplotlib.pyplot as plt\n",
    "from matplotlib.colors import ListedColormap\n",
    "from sklearn import datasets\n",
    "from sklearn.neighbors import NearestCentroid\n",
    "import pandas as pd\n",
    "from sklearn.preprocessing import StandardScaler, LabelEncoder\n",
    "from sklearn.model_selection import train_test_split\n",
    "from sklearn.neighbors import KNeighborsClassifier\n",
    "from sklearn.metrics import accuracy_score\n",
    "import seaborn as sns"
   ]
  },
  {
   "cell_type": "code",
   "execution_count": 3,
   "metadata": {},
   "outputs": [],
   "source": [
    "df = pd.read_table('C:/Users/Mahsa/Desktop/tst/expanded.txt', delimiter=',', header=None)\n",
    "column_labels = [\n",
    "    'class', 'cap-shape', 'cap-surface', 'cap-color', 'bruised', 'odor',\n",
    "    'gill-attachment', 'gill-spacing', 'gill-size', 'gill-color',\n",
    "    'stalk-shape', 'stalk-root', 'stalk-surface-above-ring',\n",
    "    'stalk-surface-below-ring', 'stalk-color-above-ring',\n",
    "    'stalk-color below-ring', 'veil-type', 'veil-color', 'ring-number',\n",
    "    'ring-type', 'spore-print-color', 'population', 'habitat']"
   ]
  },
  {
   "cell_type": "code",
   "execution_count": 4,
   "metadata": {},
   "outputs": [
    {
     "name": "stderr",
     "output_type": "stream",
     "text": [
      "E:\\Anaconda\\lib\\site-packages\\sklearn\\preprocessing\\data.py:625: DataConversionWarning: Data with input dtype uint8 were all converted to float64 by StandardScaler.\n",
      "  return self.partial_fit(X, y)\n",
      "E:\\Anaconda\\lib\\site-packages\\sklearn\\base.py:462: DataConversionWarning: Data with input dtype uint8 were all converted to float64 by StandardScaler.\n",
      "  return self.fit(X, **fit_params).transform(X)\n"
     ]
    },
    {
     "name": "stdout",
     "output_type": "stream",
     "text": [
      "Predictions form the classifier:\n",
      "[1 0 0 ... 0 0 0]\n",
      "Predictions form the classifier:\n",
      "[1 0 0 ... 0 0 0]\n"
     ]
    },
    {
     "data": {
      "text/plain": [
       "0.9982285208148804"
      ]
     },
     "execution_count": 4,
     "metadata": {},
     "output_type": "execute_result"
    }
   ],
   "source": [
    "df.columns = column_labels\n",
    "df = df[df['stalk-root'] != '?']\n",
    "X = df.loc[:, df.columns != 'class']\n",
    "y = df['class'].to_frame()\n",
    "y['class'].value_counts()\n",
    "\n",
    "X_enc = pd.get_dummies(X)\n",
    "\n",
    "scaler = StandardScaler()\n",
    "X_std = scaler.fit_transform(X_enc)\n",
    "le = LabelEncoder()\n",
    "y_enc = le.fit_transform(y.values.ravel())\n",
    "X_train, X_test, y_train, y_test = train_test_split(\n",
    "    X_std,\n",
    "    y_enc,\n",
    "    test_size=0.2,\n",
    "    stratify=y_enc,\n",
    "    random_state=42\n",
    ")\n",
    "\n",
    "\n",
    "knn = KNeighborsClassifier(n_neighbors=5)\n",
    "knn.fit(X_train, y_train)\n",
    "KNeighborsClassifier(algorithm='auto',\n",
    "                     leaf_size=30,\n",
    "                     metric='minkowski',\n",
    "                     metric_params=None,\n",
    "                     n_jobs=1,\n",
    "                     n_neighbors=5,\n",
    "                     p=2,\n",
    "                     weights='uniform')\n",
    "pred = knn.predict(X_test)\n",
    "print(\"Predictions form the classifier:\")\n",
    "print(pred)\n",
    "print(\"Predictions form the classifier:\")\n",
    "print(y_test)\n",
    "np.save('sometext0', pred)\n",
    "np.save('sometext1', y_test)\n",
    "accuracy_score(y_test, pred)"
   ]
  },
  {
   "cell_type": "code",
   "execution_count": null,
   "metadata": {},
   "outputs": [],
   "source": []
  }
 ],
 "metadata": {
  "kernelspec": {
   "display_name": "Python 3",
   "language": "python",
   "name": "python3"
  },
  "language_info": {
   "codemirror_mode": {
    "name": "ipython",
    "version": 3
   },
   "file_extension": ".py",
   "mimetype": "text/x-python",
   "name": "python",
   "nbconvert_exporter": "python",
   "pygments_lexer": "ipython3",
   "version": "3.7.1"
  }
 },
 "nbformat": 4,
 "nbformat_minor": 2
}
