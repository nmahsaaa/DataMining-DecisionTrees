{
 "cells": [
  {
   "cell_type": "code",
   "execution_count": 32,
   "metadata": {},
   "outputs": [],
   "source": [
    "import pandas as pd\n",
    "import numpy as np\n",
    "from pprint import pprint\n",
    "from sklearn.model_selection import KFold"
   ]
  },
  {
   "cell_type": "code",
   "execution_count": 33,
   "metadata": {},
   "outputs": [],
   "source": [
    "dataset = pd.read_csv(\"C:/Users/Mahsa/Desktop/tst/expanded.txt\",\n",
    "                      names=['class','cap-shape','cap-surface','cap-color','bruises?','odor',\n",
    "                                                   'gill-attachment','gill-spacing','gill-size','gill-color','stalk-shape',\n",
    "                                                  'stalk-root','stalk-surface-above-ring','stalk-surface-below-ring','stalk-color-above-ring',\n",
    "                                                     'stalk-color-below-ring','veil-type','veil-color','ring-number','ring-type',\n",
    "                                                     'spore-print-color','population','habitat',])"
   ]
  },
  {
   "cell_type": "code",
   "execution_count": 34,
   "metadata": {},
   "outputs": [],
   "source": [
    "def entropy(target_col):\n",
    "    elements,counts = np.unique(target_col,return_counts = True)\n",
    "    entropy = np.sum([(-counts[i]/np.sum(counts))*np.log2(counts[i]/np.sum(counts)) for i in range(len(elements))])\n",
    "    return entropy "
   ]
  },
  {
   "cell_type": "code",
   "execution_count": 35,
   "metadata": {},
   "outputs": [],
   "source": [
    "def InfoGain(data,split_attribute_name,target_name=\"class\"):\n",
    "    \n",
    "    total_entropy = entropy(data[target_name])\n",
    "    vals,counts= np.unique(data[split_attribute_name],return_counts=True)\n",
    "    Weighted_Entropy = np.sum([(counts[i]/np.sum(counts))*entropy(data.where(data[split_attribute_name]==vals[i]).dropna()[target_name]) for i in range(len(vals))])\n",
    "    Information_Gain = total_entropy - Weighted_Entropy\n",
    "    return Information_Gain"
   ]
  },
  {
   "cell_type": "code",
   "execution_count": 36,
   "metadata": {},
   "outputs": [],
   "source": [
    "def ID3(data,originaldata,features,target_attribute_name=\"class\",parent_node_class = None):\n",
    "\n",
    "    if len(np.unique(data[target_attribute_name])) <= 1:\n",
    "        return np.unique(data[target_attribute_name])[0]\n",
    "    \n",
    "    #If the dataset is empty, return the mode target feature value in the original dataset\n",
    "    elif len(data) ==0:\n",
    "        return np.unique(originaldata[target_attribute_name])[np.argmax(np.unique(originaldata[target_attribute_name],return_counts=True)[1])]\n",
    "    \n",
    "    #If the feature space is empty, return the mode target feature value of the direct parent node\n",
    "    elif len(features) ==0:\n",
    "        return parent_node_class\n",
    "    \n",
    "    #If none of the above holds true, grow the tree!\n",
    "    else:\n",
    "        #Set the default value for this node\n",
    "        parent_node_class = np.unique(data[target_attribute_name])[np.argmax(np.unique(data[target_attribute_name],return_counts=True)[1])]\n",
    "        \n",
    "        #Select the feature which best splits the dataset\n",
    "        item_values = [InfoGain(data,feature,target_attribute_name) for feature in features]\n",
    "        best_feature_index = np.argmax(item_values)\n",
    "        best_feature = features[best_feature_index]\n",
    "        \n",
    "        #Create the tree structure. The root gets the name of the feature (best_feature) with the maximum information\n",
    "        tree = {best_feature:{}}\n",
    "        \n",
    "        #Remove the feature with the best inforamtion gain from the feature space\n",
    "        features = [i for i in features if i != best_feature]\n",
    "        \n",
    "        #Grow a branch under the root node for each possible value of the root node feature\n",
    "        for value in np.unique(data[best_feature]):\n",
    "            value = value\n",
    "            #Split the dataset along the value of the feature with the largest information gain and therwith create sub_datasets\n",
    "            sub_data = data.where(data[best_feature] == value).dropna()\n",
    "            \n",
    "            #Call the ID3 algorithm for each of those sub_datasets with the new parameters\n",
    "            subtree = ID3(sub_data,dataset,features,target_attribute_name,parent_node_class)\n",
    "            \n",
    "            #Add the sub tree, grown from the sub_dataset to the tree under the root node\n",
    "            tree[best_feature][value] = subtree\n",
    "            \n",
    "        return(tree)"
   ]
  },
  {
   "cell_type": "code",
   "execution_count": 37,
   "metadata": {},
   "outputs": [],
   "source": [
    "def predict(query,tree,default = 'p'):\n",
    "   \n",
    "    for key in list(query.keys()):\n",
    "        if key in list(tree.keys()):\n",
    "            try:\n",
    "                result = tree[key][query[key]] \n",
    "            except:\n",
    "                return default\n",
    "            \n",
    "            result = tree[key][query[key]]\n",
    "            \n",
    "            if isinstance(result,dict):\n",
    "                return predict(query,result)\n",
    "            else:\n",
    "                return result"
   ]
  },
  {
   "cell_type": "code",
   "execution_count": 38,
   "metadata": {},
   "outputs": [],
   "source": [
    "def train_test_split(dataset):\n",
    "    X = dataset.values[:, 1:23]\n",
    "    kf = KFold(n_splits=6)\n",
    "    kf.get_n_splits(X)\n",
    "    for train_index, test_index in kf.split(X):\n",
    "        print(\"TRAIN:\", train_index, \"TEST:\", test_index)\n",
    "        training_data, testing_data = X[train_index], X[test_index]\n",
    "    return training_data, testing_data"
   ]
  },
  {
   "cell_type": "code",
   "execution_count": 39,
   "metadata": {},
   "outputs": [],
   "source": [
    "def test(data,tree):\n",
    "    #Create new query instances and convert it to a dictionary\n",
    "    queries = data.iloc[:,:-1].to_dict(orient = \"records\")\n",
    "    \n",
    "    #Create a empty DataFrame in which columns the prediction of the tree are stored\n",
    "    predicted = pd.DataFrame(columns=[\"predicted\"]) \n",
    "    \n",
    "    #Calculate the prediction accuracy\n",
    "    for i in range(len(data)):\n",
    "        predicted.loc[i,\"predicted\"] = predict(queries[i],tree,'p') \n",
    "    print('The prediction accuracy is: ',(np.sum(predicted[\"predicted\"] == data[\"class\"])/len(data))*100,'%')"
   ]
  },
  {
   "cell_type": "code",
   "execution_count": 40,
   "metadata": {},
   "outputs": [
    {
     "name": "stdout",
     "output_type": "stream",
     "text": [
      "TRAIN: [1354 1355 1356 ... 8121 8122 8123] TEST: [   0    1    2 ... 1351 1352 1353]\n",
      "TRAIN: [   0    1    2 ... 8121 8122 8123] TEST: [1354 1355 1356 ... 2705 2706 2707]\n",
      "TRAIN: [   0    1    2 ... 8121 8122 8123] TEST: [2708 2709 2710 ... 4059 4060 4061]\n",
      "TRAIN: [   0    1    2 ... 8121 8122 8123] TEST: [4062 4063 4064 ... 5413 5414 5415]\n",
      "TRAIN: [   0    1    2 ... 8121 8122 8123] TEST: [5416 5417 5418 ... 6767 6768 6769]\n",
      "TRAIN: [   0    1    2 ... 6767 6768 6769] TEST: [6770 6771 6772 ... 8121 8122 8123]\n",
      "{'odor': {'a': 'e',\n",
      "          'c': 'p',\n",
      "          'f': 'p',\n",
      "          'l': 'e',\n",
      "          'm': 'p',\n",
      "          'n': {'spore-print-color': {'b': 'e',\n",
      "                                      'h': 'e',\n",
      "                                      'k': 'e',\n",
      "                                      'n': 'e',\n",
      "                                      'o': 'e',\n",
      "                                      'r': 'p',\n",
      "                                      'w': {'habitat': {'d': {'gill-size': {'b': 'e',\n",
      "                                                                            'n': 'p'}},\n",
      "                                                        'g': 'e',\n",
      "                                                        'l': {'cap-color': {'c': 'e',\n",
      "                                                                            'n': 'e',\n",
      "                                                                            'w': 'p',\n",
      "                                                                            'y': 'p'}},\n",
      "                                                        'p': 'e',\n",
      "                                                        'w': 'e'}},\n",
      "                                      'y': 'e'}},\n",
      "          'p': 'p',\n",
      "          's': 'p',\n",
      "          'y': 'p'}}\n",
      "The prediction accuracy is:  80.64516129032258 %\n"
     ]
    }
   ],
   "source": [
    "train_test_split(dataset)\n",
    "tree = ID3(training_data,training_data,training_data.columns[-22:])\n",
    "pprint(tree)\n",
    "test(testing_data,tree)"
   ]
  },
  {
   "cell_type": "code",
   "execution_count": null,
   "metadata": {},
   "outputs": [],
   "source": []
  }
 ],
 "metadata": {
  "kernelspec": {
   "display_name": "Python 3",
   "language": "python",
   "name": "python3"
  },
  "language_info": {
   "codemirror_mode": {
    "name": "ipython",
    "version": 3
   },
   "file_extension": ".py",
   "mimetype": "text/x-python",
   "name": "python",
   "nbconvert_exporter": "python",
   "pygments_lexer": "ipython3",
   "version": "3.7.1"
  }
 },
 "nbformat": 4,
 "nbformat_minor": 2
}
