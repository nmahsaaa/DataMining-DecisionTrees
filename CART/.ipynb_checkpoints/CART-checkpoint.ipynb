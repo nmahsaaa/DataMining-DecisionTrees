{
 "cells": [
  {
   "cell_type": "code",
   "execution_count": 332,
   "metadata": {},
   "outputs": [],
   "source": [
    "import csv\n",
    "import pandas as pd\n",
    "from collections import defaultdict\n",
    "import pydotplus\n",
    "from sklearn.model_selection import KFold\n",
    "from sklearn.metrics import accuracy_score"
   ]
  },
  {
   "cell_type": "code",
   "execution_count": 333,
   "metadata": {},
   "outputs": [],
   "source": [
    "class DecisionTree:\n",
    "    #Binary tree implementation with true and false branch.\n",
    "    def __init__(self, col=-1, value=None, trueBranch=None, falseBranch=None, results=None, summary=None):\n",
    "        self.col = col\n",
    "        self.value = value\n",
    "        self.trueBranch = trueBranch\n",
    "        self.falseBranch = falseBranch\n",
    "        self.results = results # None for nodes, not None for leaves\n",
    "        self.summary = summary"
   ]
  },
  {
   "cell_type": "code",
   "execution_count": 334,
   "metadata": {},
   "outputs": [],
   "source": [
    "def divideSet(rows, column, value):\n",
    "    splittingFunction = lambda row : row[column] == value\n",
    "    list1 = [row for row in rows if splittingFunction(row)]\n",
    "    list2 = [row for row in rows if not splittingFunction(row)]\n",
    "    return (list1, list2)\n"
   ]
  },
  {
   "cell_type": "code",
   "execution_count": 335,
   "metadata": {},
   "outputs": [],
   "source": [
    "def uniqueCounts(rows):\n",
    "    results = {}\n",
    "    for row in rows:\n",
    "        #response variable is in the last column\n",
    "        r = row[-1]\n",
    "        if r not in results: results[r] = 0\n",
    "        results[r] += 1\n",
    "    return results"
   ]
  },
  {
   "cell_type": "code",
   "execution_count": 336,
   "metadata": {},
   "outputs": [],
   "source": [
    "def gini(rows):\n",
    "    total = len(rows)\n",
    "    counts = uniqueCounts(rows)\n",
    "    imp = 0.0\n",
    "\n",
    "    for k1 in counts:\n",
    "        p1 = float(counts[k1])/total\n",
    "        for k2 in counts:\n",
    "            if k1 == k2: continue\n",
    "            p2 = float(counts[k2])/total\n",
    "            imp += p1*p2\n",
    "    return imp"
   ]
  },
  {
   "cell_type": "code",
   "execution_count": 337,
   "metadata": {},
   "outputs": [],
   "source": [
    "def growDecisionTreeFrom(rows, evaluationFunction=gini):\n",
    "    \n",
    "    if len(rows) == 0: return DecisionTree()\n",
    "    currentScore = evaluationFunction(rows)\n",
    "\n",
    "    bestGain = 0.0\n",
    "    bestAttribute = None\n",
    "    bestSets = None\n",
    "\n",
    "    columnCount = len(rows[0]) - 1  # last column is the result/target column\n",
    "    for col in range(0, columnCount):\n",
    "        columnValues = [row[col] for row in rows]\n",
    "\n",
    "        #unique values\n",
    "        lsUnique = list(set(columnValues))\n",
    "\n",
    "        for value in lsUnique:\n",
    "            (set1, set2) = divideSet(rows, col, value)\n",
    "\n",
    "            #Gini\n",
    "            p = float(len(set1)) / len(rows)\n",
    "            gain = currentScore - p*evaluationFunction(set1) - (1-p)*evaluationFunction(set2)\n",
    "            if gain>bestGain and len(set1)>0 and len(set2)>0:\n",
    "                bestGain = gain\n",
    "                bestAttribute = (col, value)\n",
    "                bestSets = (set1, set2)\n",
    "\n",
    "    dcY = {'impurity' : '%.3f' % currentScore, 'samples' : '%d' % len(rows)}\n",
    "    if bestGain > 0:\n",
    "        trueBranch = growDecisionTreeFrom(bestSets[0], evaluationFunction)\n",
    "        falseBranch = growDecisionTreeFrom(bestSets[1], evaluationFunction)\n",
    "        return DecisionTree(col=bestAttribute[0], value=bestAttribute[1], trueBranch=trueBranch,\n",
    "                            falseBranch=falseBranch, summary=dcY)\n",
    "    else:\n",
    "        return DecisionTree(results=uniqueCounts(rows), summary=dcY)"
   ]
  },
  {
   "cell_type": "code",
   "execution_count": 338,
   "metadata": {},
   "outputs": [],
   "source": [
    "def prune(tree, minGain, evaluationFunction= gini, notify=False):\n",
    "    \"\"\"Prunes the obtained tree according to the minimal gain (entropy or Gini). \"\"\"\n",
    "    # recursive call for each branch\n",
    "    if tree.trueBranch.results == None: prune(tree.trueBranch, minGain, evaluationFunction, notify)\n",
    "    if tree.falseBranch.results == None: prune(tree.falseBranch, minGain, evaluationFunction, notify)\n",
    "\n",
    "    # merge leaves\n",
    "    if tree.trueBranch.results != None and tree.falseBranch.results != None:\n",
    "        tb, fb = [], []\n",
    "\n",
    "        for v, c in tree.trueBranch.results.items(): tb += [[v]] * c\n",
    "        for v, c in tree.falseBranch.results.items(): fb += [[v]] * c\n",
    "\n",
    "        p = float(len(tb)) / len(tb + fb)\n",
    "        delta = evaluationFunction(tb+fb) - p*evaluationFunction(tb) - (1-p)*evaluationFunction(fb)\n",
    "        if delta < minGain:\n",
    "            if notify: print('A branch was pruned: gain = %f' % delta)\n",
    "            tree.trueBranch, tree.falseBranch = None, None\n",
    "            tree.results = uniqueCounts(tb + fb)"
   ]
  },
  {
   "cell_type": "code",
   "execution_count": 339,
   "metadata": {},
   "outputs": [],
   "source": [
    "def classify(observations, tree, dataMissing=False):\n",
    "    \"\"\"Classifies the observationss according to the tree.\n",
    "    dataMissing: true or false if data are missing or not. \"\"\"\n",
    "\n",
    "    def classifyWithoutMissingData(observations, tree):\n",
    "        if tree.results != None:  # leaf\n",
    "            return tree.results\n",
    "        else:\n",
    "            v = observations[tree.col]\n",
    "            branch = None\n",
    "            if isinstance(v, int) or isinstance(v, float):\n",
    "                if v >= tree.value: branch = tree.trueBranch\n",
    "                else: branch = tree.falseBranch\n",
    "            else:\n",
    "                if v == tree.value: branch = tree.trueBranch\n",
    "                else: branch = tree.falseBranch\n",
    "        return classifyWithoutMissingData(observations, branch)"
   ]
  },
  {
   "cell_type": "code",
   "execution_count": 340,
   "metadata": {},
   "outputs": [],
   "source": [
    "def classifyWithMissingData(observations, tree):\n",
    "        if tree.results != None:  #leaf\n",
    "            return tree.results\n",
    "        else:\n",
    "            v = observations[tree.col]\n",
    "            if v == None:\n",
    "                tr = classifyWithMissingData(observations, tree.trueBranch)\n",
    "                fr = classifyWithMissingData(observations, tree.falseBranch)\n",
    "                tcount = sum(tr.values())\n",
    "                fcount = sum(fr.values())\n",
    "                tw = float(tcount)/(tcount + fcount)\n",
    "                fw = float(fcount)/(tcount + fcount)\n",
    "                result = defaultdict(int)\n",
    "                for k, v in tr.items(): result[k] += v*tw\n",
    "                for k, v in fr.items(): result[k] += v*fw\n",
    "                return dict(result)\n",
    "            else:\n",
    "                branch = None\n",
    "                if isinstance(v, int) or isinstance(v, float):\n",
    "                    if v >= tree.value: branch = tree.trueBranch\n",
    "                    else: branch = tree.falseBranch\n",
    "                else:\n",
    "                    if v == tree.value: branch = tree.trueBranch\n",
    "                    else: branch = tree.falseBranch\n",
    "            return classifyWithMissingData(observations, branch)\n",
    "        \n",
    "        "
   ]
  },
  {
   "cell_type": "code",
   "execution_count": 341,
   "metadata": {},
   "outputs": [],
   "source": [
    "def plot(decisionTree):\n",
    "    #Plots the obtained decision tree.\n",
    "    def toString(decisionTree, indent=''):\n",
    "        if decisionTree.results != None:  # leaf node\n",
    "            lsX = [(x, y) for x, y in decisionTree.results.items()]\n",
    "            lsX.sort()\n",
    "            szY = ', '.join(['%s: %s' % (x, y) for x, y in lsX])\n",
    "            return szY\n",
    "        else:\n",
    "            szCol = 'Column %s' % decisionTree.col\n",
    "            if szCol in dcHeadings:\n",
    "                szCol = dcHeadings[szCol]\n",
    "            if isinstance(decisionTree.value, int) or isinstance(decisionTree.value, float):\n",
    "                decision = '%s >= %s?' % (szCol, decisionTree.value)\n",
    "            else:\n",
    "                decision = '%s == %s?' % (szCol, decisionTree.value)\n",
    "            trueBranch = indent + 'yes -> ' + toString(decisionTree.trueBranch, indent + '\\t\\t')\n",
    "            falseBranch = indent + 'no  -> ' + toString(decisionTree.falseBranch, indent + '\\t\\t')\n",
    "            return (decision + '\\n' + trueBranch + '\\n' + falseBranch)\n",
    "\n",
    "    print(toString(decisionTree))"
   ]
  },
  {
   "cell_type": "code",
   "execution_count": 342,
   "metadata": {},
   "outputs": [],
   "source": [
    "def train_test_split(trainingData):\n",
    "    X = trainingData.values[:, 1:23]\n",
    "    kf = KFold(n_splits=6)\n",
    "    kf.get_n_splits(X)\n",
    "    for train_index, test_index in kf.split(X):\n",
    "        print(\"TRAIN:\", train_index, \"TEST:\", test_index)\n",
    "        training_data, testing_data = X[train_index], X[test_index]"
   ]
  },
  {
   "cell_type": "code",
   "execution_count": 343,
   "metadata": {},
   "outputs": [],
   "source": [
    "def loadCSV(file):\n",
    "    \"\"\"Loads a CSV file and converts all floats and ints into basic datatypes.\"\"\"\n",
    "    #f = train_test_split(file)\n",
    "    def convertTypes(s):\n",
    "        s = s.strip()\n",
    "        try:\n",
    "            return float(s) if '.' in s else int(s)\n",
    "        except ValueError:\n",
    "            return s\n",
    "\n",
    "    reader = csv.reader(open(file, 'rt'))\n",
    "    dcHeader = {}\n",
    "    if bHeader:\n",
    "        lsHeader = next(reader)\n",
    "        for i, szY in enumerate(lsHeader):\n",
    "                szCol = 'Column %d' % i\n",
    "                dcHeader[szCol] = str(szY)\n",
    "    return dcHeader, [[convertTypes(item) for item in row] for row in reader]"
   ]
  },
  {
   "cell_type": "code",
   "execution_count": 344,
   "metadata": {},
   "outputs": [
    {
     "name": "stdout",
     "output_type": "stream",
     "text": [
      "odor == n?\n",
      "yes -> spore-print-color == r?\n",
      "\t\tyes -> p: 72\n",
      "\t\tno  -> stalk-surface-below-ring == y?\n",
      "\t\t\t\tyes -> gill-size == b?\n",
      "\t\t\t\t\t\tyes -> e: 16\n",
      "\t\t\t\t\t\tno  -> p: 40\n",
      "\t\t\t\tno  -> cap-surface == g?\n",
      "\t\t\t\t\t\tyes -> p: 4\n",
      "\t\t\t\t\t\tno  -> cap-shape == c?\n",
      "\t\t\t\t\t\t\t\tyes -> p: 1\n",
      "\t\t\t\t\t\t\t\tno  -> gill-size == n?\n",
      "\t\t\t\t\t\t\t\t\t\tyes -> bruises? == t?\n",
      "\t\t\t\t\t\t\t\t\t\t\t\tyes -> p: 3\n",
      "\t\t\t\t\t\t\t\t\t\t\t\tno  -> e: 192\n",
      "\t\t\t\t\t\t\t\t\t\tno  -> e: 3200\n",
      "no  -> stalk-root == c?\n",
      "\t\tyes -> bruises? == t?\n",
      "\t\t\t\tyes -> e: 512\n",
      "\t\t\t\tno  -> p: 36\n",
      "\t\tno  -> stalk-root == r?\n",
      "\t\t\t\tyes -> e: 192\n",
      "\t\t\t\tno  -> odor == a?\n",
      "\t\t\t\t\t\tyes -> e: 48\n",
      "\t\t\t\t\t\tno  -> odor == l?\n",
      "\t\t\t\t\t\t\t\tyes -> e: 48\n",
      "\t\t\t\t\t\t\t\tno  -> p: 3760\n",
      "None\n",
      "None\n"
     ]
    }
   ],
   "source": [
    "if __name__ == '__main__':\n",
    "        \n",
    "        dcHeadings ,trainingData = loadCSV('C:/Users/Mahsa/Desktop/tst/expanded - Copy.csv')\n",
    "        decisionTree = growDecisionTreeFrom(trainingData, evaluationFunction=gini)\n",
    "        prune(decisionTree, 0.01, notify=True) # notify, when a branch is pruned\n",
    "        result = plot(decisionTree)\n",
    "        \n",
    "        print(classify([8.0, 6.2, 10.0, 5.5], decisionTree)) #for missing data\n",
    "        print(classify([None, None, None, 1.5], decisionTree, dataMissing=True))"
   ]
  },
  {
   "cell_type": "code",
   "execution_count": null,
   "metadata": {},
   "outputs": [],
   "source": []
  },
  {
   "cell_type": "code",
   "execution_count": null,
   "metadata": {},
   "outputs": [],
   "source": []
  },
  {
   "cell_type": "code",
   "execution_count": null,
   "metadata": {},
   "outputs": [],
   "source": []
  }
 ],
 "metadata": {
  "kernelspec": {
   "display_name": "Python 3",
   "language": "python",
   "name": "python3"
  },
  "language_info": {
   "codemirror_mode": {
    "name": "ipython",
    "version": 3
   },
   "file_extension": ".py",
   "mimetype": "text/x-python",
   "name": "python",
   "nbconvert_exporter": "python",
   "pygments_lexer": "ipython3",
   "version": "3.7.1"
  }
 },
 "nbformat": 4,
 "nbformat_minor": 2
}
